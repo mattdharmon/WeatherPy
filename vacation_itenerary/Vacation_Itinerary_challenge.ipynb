{
 "cells": [
  {
   "cell_type": "markdown",
   "metadata": {},
   "source": [
    "## Deliverable 3. Create a Travel Itinerary Map."
   ]
  },
  {
   "cell_type": "code",
   "execution_count": 4,
   "metadata": {},
   "outputs": [],
   "source": [
    "# Dependencies and Setup\n",
    "import pandas as pd\n",
    "import requests\n",
    "import gmaps\n",
    "import sys\n",
    "import os\n",
    "\n",
    "# Import API key\n",
    "sys.path.insert(1, '../')\n",
    "from config import google_api_key\n",
    "\n",
    "# Configure gmaps\n",
    "gmaps.configure(api_key=google_api_key)"
   ]
  },
  {
   "cell_type": "code",
   "execution_count": 5,
   "metadata": {},
   "outputs": [
    {
     "data": {
      "text/html": [
       "<div>\n",
       "<style scoped>\n",
       "    .dataframe tbody tr th:only-of-type {\n",
       "        vertical-align: middle;\n",
       "    }\n",
       "\n",
       "    .dataframe tbody tr th {\n",
       "        vertical-align: top;\n",
       "    }\n",
       "\n",
       "    .dataframe thead th {\n",
       "        text-align: right;\n",
       "    }\n",
       "</style>\n",
       "<table border=\"1\" class=\"dataframe\">\n",
       "  <thead>\n",
       "    <tr style=\"text-align: right;\">\n",
       "      <th></th>\n",
       "      <th>City_ID</th>\n",
       "      <th>name</th>\n",
       "      <th>country</th>\n",
       "      <th>max_temp</th>\n",
       "      <th>current_description</th>\n",
       "      <th>lat</th>\n",
       "      <th>lng</th>\n",
       "      <th>Hotel Name</th>\n",
       "    </tr>\n",
       "  </thead>\n",
       "  <tbody>\n",
       "    <tr>\n",
       "      <th>0</th>\n",
       "      <td>5</td>\n",
       "      <td>puerto ayora</td>\n",
       "      <td>ec</td>\n",
       "      <td>77.00</td>\n",
       "      <td>overcast clouds</td>\n",
       "      <td>-0.7393</td>\n",
       "      <td>-90.3518</td>\n",
       "      <td>Castillo Galapagos</td>\n",
       "    </tr>\n",
       "    <tr>\n",
       "      <th>1</th>\n",
       "      <td>9</td>\n",
       "      <td>atuona</td>\n",
       "      <td>pf</td>\n",
       "      <td>79.52</td>\n",
       "      <td>few clouds</td>\n",
       "      <td>-9.8000</td>\n",
       "      <td>-139.0333</td>\n",
       "      <td>Villa Enata</td>\n",
       "    </tr>\n",
       "    <tr>\n",
       "      <th>2</th>\n",
       "      <td>19</td>\n",
       "      <td>rikitea</td>\n",
       "      <td>pf</td>\n",
       "      <td>77.56</td>\n",
       "      <td>broken clouds</td>\n",
       "      <td>-23.1203</td>\n",
       "      <td>-134.9692</td>\n",
       "      <td>Pension Maro'i</td>\n",
       "    </tr>\n",
       "    <tr>\n",
       "      <th>3</th>\n",
       "      <td>22</td>\n",
       "      <td>soure</td>\n",
       "      <td>br</td>\n",
       "      <td>78.42</td>\n",
       "      <td>broken clouds</td>\n",
       "      <td>-0.7167</td>\n",
       "      <td>-48.5233</td>\n",
       "      <td>Casarão</td>\n",
       "    </tr>\n",
       "    <tr>\n",
       "      <th>4</th>\n",
       "      <td>23</td>\n",
       "      <td>atuona</td>\n",
       "      <td>pf</td>\n",
       "      <td>79.52</td>\n",
       "      <td>few clouds</td>\n",
       "      <td>-9.8000</td>\n",
       "      <td>-139.0333</td>\n",
       "      <td>Villa Enata</td>\n",
       "    </tr>\n",
       "  </tbody>\n",
       "</table>\n",
       "</div>"
      ],
      "text/plain": [
       "   City_ID          name country  max_temp current_description      lat  \\\n",
       "0        5  puerto ayora      ec     77.00     overcast clouds  -0.7393   \n",
       "1        9        atuona      pf     79.52          few clouds  -9.8000   \n",
       "2       19       rikitea      pf     77.56       broken clouds -23.1203   \n",
       "3       22         soure      br     78.42       broken clouds  -0.7167   \n",
       "4       23        atuona      pf     79.52          few clouds  -9.8000   \n",
       "\n",
       "        lng          Hotel Name  \n",
       "0  -90.3518  Castillo Galapagos  \n",
       "1 -139.0333         Villa Enata  \n",
       "2 -134.9692      Pension Maro'i  \n",
       "3  -48.5233             Casarão  \n",
       "4 -139.0333         Villa Enata  "
      ]
     },
     "execution_count": 5,
     "metadata": {},
     "output_type": "execute_result"
    }
   ],
   "source": [
    "# 1. Read the WeatherPy_vacation.csv into a DataFrame.\n",
    "filepath = os.path.join(\"../\", \"Vacation_Search\", \"WeatherPy_vacation.csv\")\n",
    "vacation_df = pd.read_csv(filepath)\n",
    "vacation_df.head()"
   ]
  },
  {
   "cell_type": "code",
   "execution_count": 8,
   "metadata": {},
   "outputs": [],
   "source": [
    "# 2. Using the template add the city name, the country code, the weather description and maximum temperature for the city.\n",
    "info_box_template = \"\"\"\n",
    "<dl>\n",
    "<dt>City Name</dt><dd>{name}</dd>\n",
    "<dt>Country Code</dt><dd>{country}</dd>\n",
    "<dt>Weather Description</dt><dd>{current_description}</dd>\n",
    "<dt>Maxium Temperature</dt><dd>{max_temp}</dd>\n",
    "</dl>\n",
    "\"\"\"\n",
    "\n",
    "# 3a. Get the data from each row and add it to the formatting template and store the data in a list.\n",
    "hotel_info = [info_box_template.format(**row) for index, row in vacation_df.iterrows()]\n",
    "\n",
    "# 3b. Get the latitude and longitude from each row and store in a new DataFrame.\n",
    "locations = vacation_df[[\"lat\", \"lng\"]]"
   ]
  },
  {
   "cell_type": "code",
   "execution_count": 9,
   "metadata": {},
   "outputs": [
    {
     "data": {
      "application/vnd.jupyter.widget-view+json": {
       "model_id": "5ecc689c5fc6465e877d36e0b98acd4e",
       "version_major": 2,
       "version_minor": 0
      },
      "text/plain": [
       "Figure(layout=FigureLayout(height='420px'))"
      ]
     },
     "metadata": {},
     "output_type": "display_data"
    }
   ],
   "source": [
    "# 4a. Add a marker layer for each city to the map.\n",
    "fig = gmaps.figure(center=(30.0, 31.0), zoom_level=1.5)\n",
    "marker_layer = gmaps.marker_layer(locations, info_box_content=hotel_info)\n",
    "fig.add_layer(marker_layer)\n",
    "# 4b. Display the figure\n",
    "fig\n"
   ]
  },
  {
   "cell_type": "code",
   "execution_count": 81,
   "metadata": {},
   "outputs": [
    {
     "data": {
      "text/html": [
       "<div>\n",
       "<style scoped>\n",
       "    .dataframe tbody tr th:only-of-type {\n",
       "        vertical-align: middle;\n",
       "    }\n",
       "\n",
       "    .dataframe tbody tr th {\n",
       "        vertical-align: top;\n",
       "    }\n",
       "\n",
       "    .dataframe thead th {\n",
       "        text-align: right;\n",
       "    }\n",
       "</style>\n",
       "<table border=\"1\" class=\"dataframe\">\n",
       "  <thead>\n",
       "    <tr style=\"text-align: right;\">\n",
       "      <th></th>\n",
       "      <th>City_ID</th>\n",
       "      <th>name</th>\n",
       "      <th>country</th>\n",
       "      <th>max_temp</th>\n",
       "      <th>current_description</th>\n",
       "      <th>lat</th>\n",
       "      <th>lng</th>\n",
       "      <th>Hotel Name</th>\n",
       "      <th>lat_lng</th>\n",
       "    </tr>\n",
       "  </thead>\n",
       "  <tbody>\n",
       "    <tr>\n",
       "      <th>181</th>\n",
       "      <td>1358</td>\n",
       "      <td>porto novo</td>\n",
       "      <td>cv</td>\n",
       "      <td>79.18</td>\n",
       "      <td>few clouds</td>\n",
       "      <td>6.4965</td>\n",
       "      <td>2.6036</td>\n",
       "      <td>Tour Eiffel Hotel Benin</td>\n",
       "      <td>(6.4965, 2.6036)</td>\n",
       "    </tr>\n",
       "  </tbody>\n",
       "</table>\n",
       "</div>"
      ],
      "text/plain": [
       "     City_ID        name country  max_temp current_description     lat  \\\n",
       "181     1358  porto novo      cv     79.18          few clouds  6.4965   \n",
       "\n",
       "        lng               Hotel Name           lat_lng  \n",
       "181  2.6036  Tour Eiffel Hotel Benin  (6.4965, 2.6036)  "
      ]
     },
     "execution_count": 81,
     "metadata": {},
     "output_type": "execute_result"
    }
   ],
   "source": [
    "# From the map above pick 4 cities and create a vacation itinerary route to travel between the four cities. \n",
    "# 5. Create DataFrames for each city by filtering the 'vacation_df' using the loc method. \n",
    "# Hint: The starting and ending city should be the same city.\n",
    "vacation_start = vacation_df.loc[(vacation_df['name'] == 'harper')]\n",
    "vacation_end = vacation_df.loc[(vacation_df['name'] == 'harper')]\n",
    "vacation_stop1 = vacation_df.loc[(vacation_df['name'] == 'san-pedro')]\n",
    "vacation_stop2 = vacation_df.loc[(vacation_df['name'] == 'takoradi')] \n",
    "vacation_stop3 = vacation_df.loc[(vacation_df['name'] == 'porto novo')]\n",
    "vacation_stop3"
   ]
  },
  {
   "cell_type": "code",
   "execution_count": 82,
   "metadata": {},
   "outputs": [
    {
     "data": {
      "text/plain": [
       "(4.375, -7.7169)"
      ]
     },
     "execution_count": 82,
     "metadata": {},
     "output_type": "execute_result"
    }
   ],
   "source": [
    "# 6. Get the latitude-longitude pairs as tuples from each city DataFrame using the to_numpy function and list indexing.\n",
    "start = tuple(vacation_start[['lat', 'lng']].to_numpy()[0])\n",
    "end = tuple(vacation_end[['lat', 'lng']].to_numpy()[0])\n",
    "stop1 = tuple(vacation_stop1[['lat', 'lng']].to_numpy()[0])\n",
    "stop2 = tuple(vacation_stop2[['lat', 'lng']].to_numpy()[0])\n",
    "stop3 = tuple(vacation_stop3[['lat', 'lng']].to_numpy()[0])\n",
    "start"
   ]
  },
  {
   "cell_type": "code",
   "execution_count": 83,
   "metadata": {
    "scrolled": true
   },
   "outputs": [],
   "source": [
    "# 7. Create a direction layer map using the start and end latitude-longitude pairs,\n",
    "# and stop1, stop2, and stop3 as the waypoints. The travel_mode should be \"DRIVING\", \"BICYCLING\", or \"WALKING\".\n",
    "direction_layer = gmaps.directions_layer(start, end, waypoints=[stop1, stop2, stop3], travel_mode='DRIVING')\n"
   ]
  },
  {
   "cell_type": "code",
   "execution_count": 84,
   "metadata": {},
   "outputs": [
    {
     "data": {
      "text/html": [
       "<div>\n",
       "<style scoped>\n",
       "    .dataframe tbody tr th:only-of-type {\n",
       "        vertical-align: middle;\n",
       "    }\n",
       "\n",
       "    .dataframe tbody tr th {\n",
       "        vertical-align: top;\n",
       "    }\n",
       "\n",
       "    .dataframe thead th {\n",
       "        text-align: right;\n",
       "    }\n",
       "</style>\n",
       "<table border=\"1\" class=\"dataframe\">\n",
       "  <thead>\n",
       "    <tr style=\"text-align: right;\">\n",
       "      <th></th>\n",
       "      <th>City_ID</th>\n",
       "      <th>name</th>\n",
       "      <th>country</th>\n",
       "      <th>max_temp</th>\n",
       "      <th>current_description</th>\n",
       "      <th>lat</th>\n",
       "      <th>lng</th>\n",
       "      <th>Hotel Name</th>\n",
       "      <th>lat_lng</th>\n",
       "    </tr>\n",
       "  </thead>\n",
       "  <tbody>\n",
       "    <tr>\n",
       "      <th>0</th>\n",
       "      <td>474</td>\n",
       "      <td>harper</td>\n",
       "      <td>lr</td>\n",
       "      <td>79.30</td>\n",
       "      <td>scattered clouds</td>\n",
       "      <td>4.3750</td>\n",
       "      <td>-7.7169</td>\n",
       "      <td>Screensaver</td>\n",
       "      <td>(4.375, -7.7169)</td>\n",
       "    </tr>\n",
       "    <tr>\n",
       "      <th>1</th>\n",
       "      <td>474</td>\n",
       "      <td>harper</td>\n",
       "      <td>lr</td>\n",
       "      <td>79.30</td>\n",
       "      <td>scattered clouds</td>\n",
       "      <td>4.3750</td>\n",
       "      <td>-7.7169</td>\n",
       "      <td>Screensaver</td>\n",
       "      <td>(4.375, -7.7169)</td>\n",
       "    </tr>\n",
       "    <tr>\n",
       "      <th>2</th>\n",
       "      <td>1742</td>\n",
       "      <td>san-pedro</td>\n",
       "      <td>ci</td>\n",
       "      <td>78.12</td>\n",
       "      <td>few clouds</td>\n",
       "      <td>4.7485</td>\n",
       "      <td>-6.6363</td>\n",
       "      <td>Hotel Maria</td>\n",
       "      <td>(4.7485, -6.6363)</td>\n",
       "    </tr>\n",
       "    <tr>\n",
       "      <th>3</th>\n",
       "      <td>1530</td>\n",
       "      <td>takoradi</td>\n",
       "      <td>gh</td>\n",
       "      <td>79.21</td>\n",
       "      <td>broken clouds</td>\n",
       "      <td>4.8845</td>\n",
       "      <td>-1.7554</td>\n",
       "      <td>Raybow International Hotel</td>\n",
       "      <td>(4.8845, -1.7554)</td>\n",
       "    </tr>\n",
       "    <tr>\n",
       "      <th>4</th>\n",
       "      <td>1358</td>\n",
       "      <td>porto novo</td>\n",
       "      <td>cv</td>\n",
       "      <td>79.18</td>\n",
       "      <td>few clouds</td>\n",
       "      <td>6.4965</td>\n",
       "      <td>2.6036</td>\n",
       "      <td>Tour Eiffel Hotel Benin</td>\n",
       "      <td>(6.4965, 2.6036)</td>\n",
       "    </tr>\n",
       "  </tbody>\n",
       "</table>\n",
       "</div>"
      ],
      "text/plain": [
       "   City_ID        name country  max_temp current_description     lat     lng  \\\n",
       "0      474      harper      lr     79.30    scattered clouds  4.3750 -7.7169   \n",
       "1      474      harper      lr     79.30    scattered clouds  4.3750 -7.7169   \n",
       "2     1742   san-pedro      ci     78.12          few clouds  4.7485 -6.6363   \n",
       "3     1530    takoradi      gh     79.21       broken clouds  4.8845 -1.7554   \n",
       "4     1358  porto novo      cv     79.18          few clouds  6.4965  2.6036   \n",
       "\n",
       "                   Hotel Name            lat_lng  \n",
       "0                 Screensaver   (4.375, -7.7169)  \n",
       "1                 Screensaver   (4.375, -7.7169)  \n",
       "2                 Hotel Maria  (4.7485, -6.6363)  \n",
       "3  Raybow International Hotel  (4.8845, -1.7554)  \n",
       "4     Tour Eiffel Hotel Benin   (6.4965, 2.6036)  "
      ]
     },
     "execution_count": 84,
     "metadata": {},
     "output_type": "execute_result"
    }
   ],
   "source": [
    "# 8. To create a marker layer map between the four cities.\n",
    "#  Combine the four city DataFrames into one DataFrame using the concat() function.\n",
    "itinerary_df = pd.concat([vacation_start, vacation_end, vacation_stop1, vacation_stop2, vacation_stop3],ignore_index=True)\n",
    "itinerary_df"
   ]
  },
  {
   "cell_type": "code",
   "execution_count": 85,
   "metadata": {},
   "outputs": [],
   "source": [
    "# 9 Using the template add city name, the country code, the weather description and maximum temperature for the city. \n",
    "info_box_template = \"\"\"\n",
    "<dl>\n",
    "<dt>City Name</dt><dd>{name}</dd>\n",
    "<dt>Country Code</dt><dd>{country}</dd>\n",
    "<dt>Weather Description</dt><dd>{current_description}</dd>\n",
    "<dt>Maxium Temperature</dt><dd>{max_temp}</dd>\n",
    "</dl>\n",
    "\"\"\"\n",
    "\n",
    "# 10a Get the data from each row and add it to the formatting template and store the data in a list.\n",
    "hotel_info = [info_box_template.format(**row) for index, row in itinerary_df.iterrows()]\n",
    "\n",
    "# 10b. Get the latitude and longitude from each row and store in a new DataFrame.\n",
    "locations = itinerary_df[[\"lat\", \"lng\"]]"
   ]
  },
  {
   "cell_type": "code",
   "execution_count": 86,
   "metadata": {},
   "outputs": [
    {
     "data": {
      "application/vnd.jupyter.widget-view+json": {
       "model_id": "23db6769ab00410f8872580399895916",
       "version_major": 2,
       "version_minor": 0
      },
      "text/plain": [
       "Figure(layout=FigureLayout(height='420px'))"
      ]
     },
     "metadata": {},
     "output_type": "display_data"
    }
   ],
   "source": [
    "# 11a. Add a marker layer for each city to the map.\n",
    "# 4a. Add a marker layer for each city to the map.\n",
    "fig = gmaps.figure(center=(30.0, 31.0), zoom_level=1.5)\n",
    "marker_layer = gmaps.marker_layer(locations, info_box_content=hotel_info)\n",
    "fig.add_layer(marker_layer)\n",
    "fig.add_layer(direction_layer)\n",
    "# 11b. Display the figure\n",
    "fig\n"
   ]
  },
  {
   "cell_type": "code",
   "execution_count": null,
   "metadata": {},
   "outputs": [],
   "source": []
  }
 ],
 "metadata": {
  "kernelspec": {
   "display_name": "Python 3",
   "language": "python",
   "name": "python3"
  },
  "language_info": {
   "codemirror_mode": {
    "name": "ipython",
    "version": 3
   },
   "file_extension": ".py",
   "mimetype": "text/x-python",
   "name": "python",
   "nbconvert_exporter": "python",
   "pygments_lexer": "ipython3",
   "version": "3.7.9"
  },
  "latex_envs": {
   "LaTeX_envs_menu_present": true,
   "autoclose": false,
   "autocomplete": true,
   "bibliofile": "biblio.bib",
   "cite_by": "apalike",
   "current_citInitial": 1,
   "eqLabelWithNumbers": true,
   "eqNumInitial": 1,
   "hotkeys": {
    "equation": "Ctrl-E",
    "itemize": "Ctrl-I"
   },
   "labels_anchors": false,
   "latex_user_defs": false,
   "report_style_numbering": false,
   "user_envs_cfg": false
  }
 },
 "nbformat": 4,
 "nbformat_minor": 2
}
